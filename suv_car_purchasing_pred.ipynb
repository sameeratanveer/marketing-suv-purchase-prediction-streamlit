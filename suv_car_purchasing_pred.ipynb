{
 "cells": [
  {
   "cell_type": "markdown",
   "id": "24032382-1ab8-437b-8d0e-3d34d58536dd",
   "metadata": {},
   "source": [
    "### Importing all the libraries. "
   ]
  },
  {
   "cell_type": "code",
   "execution_count": 2,
   "id": "56f127ab-81a4-4fc6-a075-74863e0b96a6",
   "metadata": {},
   "outputs": [],
   "source": [
    "import numpy as np \n",
    "import pandas as pd\n",
    "import matplotlib.pyplot as plt \n",
    "import seaborn as sns"
   ]
  },
  {
   "cell_type": "markdown",
   "id": "0cdfbdaf-482d-4007-9dfa-7fbfa6e29234",
   "metadata": {},
   "source": [
    "### Loading the dataset "
   ]
  },
  {
   "cell_type": "code",
   "execution_count": 4,
   "id": "98e7f18a-a5a0-49ff-9640-f878e7762693",
   "metadata": {},
   "outputs": [
    {
     "data": {
      "text/html": [
       "<div>\n",
       "<style scoped>\n",
       "    .dataframe tbody tr th:only-of-type {\n",
       "        vertical-align: middle;\n",
       "    }\n",
       "\n",
       "    .dataframe tbody tr th {\n",
       "        vertical-align: top;\n",
       "    }\n",
       "\n",
       "    .dataframe thead th {\n",
       "        text-align: right;\n",
       "    }\n",
       "</style>\n",
       "<table border=\"1\" class=\"dataframe\">\n",
       "  <thead>\n",
       "    <tr style=\"text-align: right;\">\n",
       "      <th></th>\n",
       "      <th>User ID</th>\n",
       "      <th>Gender</th>\n",
       "      <th>Age</th>\n",
       "      <th>EstimatedSalary</th>\n",
       "      <th>Purchased</th>\n",
       "    </tr>\n",
       "  </thead>\n",
       "  <tbody>\n",
       "    <tr>\n",
       "      <th>0</th>\n",
       "      <td>15624510</td>\n",
       "      <td>Male</td>\n",
       "      <td>19</td>\n",
       "      <td>19000</td>\n",
       "      <td>0</td>\n",
       "    </tr>\n",
       "    <tr>\n",
       "      <th>1</th>\n",
       "      <td>15810944</td>\n",
       "      <td>Male</td>\n",
       "      <td>35</td>\n",
       "      <td>20000</td>\n",
       "      <td>0</td>\n",
       "    </tr>\n",
       "    <tr>\n",
       "      <th>2</th>\n",
       "      <td>15668575</td>\n",
       "      <td>Female</td>\n",
       "      <td>26</td>\n",
       "      <td>43000</td>\n",
       "      <td>0</td>\n",
       "    </tr>\n",
       "  </tbody>\n",
       "</table>\n",
       "</div>"
      ],
      "text/plain": [
       "    User ID  Gender  Age  EstimatedSalary  Purchased\n",
       "0  15624510    Male   19            19000          0\n",
       "1  15810944    Male   35            20000          0\n",
       "2  15668575  Female   26            43000          0"
      ]
     },
     "execution_count": 4,
     "metadata": {},
     "output_type": "execute_result"
    }
   ],
   "source": [
    "df = pd.read_csv('suv_data.csv')\n",
    "df.head(3)"
   ]
  },
  {
   "cell_type": "markdown",
   "id": "0ead68e9-f2d4-406e-8647-fdca1ec7fb45",
   "metadata": {},
   "source": [
    "1. This dataset is quite small and easy to understand. \n",
    "2. From the column name itself we can say what does those columns means. \n",
    "3. Decision 1 : Drop User ID column, as it does not contribute anyhow to purchased column (target variable)"
   ]
  },
  {
   "cell_type": "code",
   "execution_count": 6,
   "id": "b1996c15-133d-4129-81dc-b5e4ffd38e5c",
   "metadata": {},
   "outputs": [],
   "source": [
    "df = df.drop('User ID', axis=1)"
   ]
  },
  {
   "cell_type": "markdown",
   "id": "f1416d25-b603-4e57-b7d9-3d1500eb7a1a",
   "metadata": {},
   "source": [
    "### Data Understanding : Basic overview of data "
   ]
  },
  {
   "cell_type": "code",
   "execution_count": 8,
   "id": "640385fb-726f-451a-bed2-3d90cf8d727f",
   "metadata": {},
   "outputs": [
    {
     "name": "stdout",
     "output_type": "stream",
     "text": [
      "No.of Rows : 400, No.of Columns : 4\n",
      "<class 'pandas.core.frame.DataFrame'>\n",
      "RangeIndex: 400 entries, 0 to 399\n",
      "Data columns (total 4 columns):\n",
      " #   Column           Non-Null Count  Dtype \n",
      "---  ------           --------------  ----- \n",
      " 0   Gender           400 non-null    object\n",
      " 1   Age              400 non-null    int64 \n",
      " 2   EstimatedSalary  400 non-null    int64 \n",
      " 3   Purchased        400 non-null    int64 \n",
      "dtypes: int64(3), object(1)\n",
      "memory usage: 12.6+ KB\n",
      "Basic information of the dataset.\n",
      " None\n",
      "Descriptive statistics of the numerical column :\n",
      "               Age  EstimatedSalary   Purchased\n",
      "count  400.000000       400.000000  400.000000\n",
      "mean    37.655000     69742.500000    0.357500\n",
      "std     10.482877     34096.960282    0.479864\n",
      "min     18.000000     15000.000000    0.000000\n",
      "25%     29.750000     43000.000000    0.000000\n",
      "50%     37.000000     70000.000000    0.000000\n",
      "75%     46.000000     88000.000000    1.000000\n",
      "max     60.000000    150000.000000    1.000000\n",
      "No.of Null values : Gender             0\n",
      "Age                0\n",
      "EstimatedSalary    0\n",
      "Purchased          0\n",
      "dtype: int64\n",
      "No.of Duplicates : 20\n"
     ]
    }
   ],
   "source": [
    "print(f\"No.of Rows : {df.shape[0]}, No.of Columns : {df.shape[1]}\")\n",
    "print(f\"Basic information of the dataset.\\n {df.info()}\")\n",
    "print(f\"Descriptive statistics of the numerical column :\\n {df.describe()}\")\n",
    "print(f\"No.of Null values : {df.isnull().sum()}\")\n",
    "print(f\"No.of Duplicates : {df.duplicated().sum()}\")"
   ]
  },
  {
   "cell_type": "markdown",
   "id": "d48616d8-cb22-469d-b5ce-6d042e639779",
   "metadata": {},
   "source": [
    "1. As we can see that we have 20 duplicates in our dataset. \n",
    "2. Decision 2 : Drop those duplicates. "
   ]
  },
  {
   "cell_type": "markdown",
   "id": "7fce2f4c-0d32-470d-bfab-7992b4abb141",
   "metadata": {},
   "source": [
    "### Dropping the duplicates "
   ]
  },
  {
   "cell_type": "code",
   "execution_count": 11,
   "id": "cc3698de-d987-48a9-b81b-4ef5b6e46968",
   "metadata": {},
   "outputs": [],
   "source": [
    "df = df.drop_duplicates()"
   ]
  },
  {
   "cell_type": "code",
   "execution_count": 12,
   "id": "5c29b7d8-a5ca-4d76-ad83-bfc2c86f9f53",
   "metadata": {},
   "outputs": [
    {
     "data": {
      "text/plain": [
       "(380, 4)"
      ]
     },
     "execution_count": 12,
     "metadata": {},
     "output_type": "execute_result"
    }
   ],
   "source": [
    "df.shape"
   ]
  },
  {
   "cell_type": "markdown",
   "id": "6f432cb1-2fb2-41d3-ab6c-dc5d701caa03",
   "metadata": {},
   "source": [
    "1. We have one categorical variable. Gender. Let us encode this column. \n",
    "2. Decision 3 : Encoding Gender column. "
   ]
  },
  {
   "cell_type": "markdown",
   "id": "6428280a-ebcf-48de-a34c-51699f67eb12",
   "metadata": {},
   "source": [
    "### Encoding Gender Column "
   ]
  },
  {
   "cell_type": "code",
   "execution_count": 15,
   "id": "a423f9d2-a732-4a35-b3b3-8918c098a4df",
   "metadata": {},
   "outputs": [
    {
     "data": {
      "text/plain": [
       "Gender\n",
       "Female    198\n",
       "Male      182\n",
       "Name: count, dtype: int64"
      ]
     },
     "execution_count": 15,
     "metadata": {},
     "output_type": "execute_result"
    }
   ],
   "source": [
    "df['Gender'].value_counts()"
   ]
  },
  {
   "cell_type": "code",
   "execution_count": 16,
   "id": "2dc05825-5ce7-4586-b2e9-14d080b37829",
   "metadata": {},
   "outputs": [],
   "source": [
    "df['Gender'] = df['Gender'].replace({'Female':1, 'Male':0})"
   ]
  },
  {
   "cell_type": "code",
   "execution_count": 17,
   "id": "6e06e4b3-bc30-4da8-ad3b-03c80ee1798b",
   "metadata": {
    "scrolled": true
   },
   "outputs": [
    {
     "data": {
      "text/html": [
       "<div>\n",
       "<style scoped>\n",
       "    .dataframe tbody tr th:only-of-type {\n",
       "        vertical-align: middle;\n",
       "    }\n",
       "\n",
       "    .dataframe tbody tr th {\n",
       "        vertical-align: top;\n",
       "    }\n",
       "\n",
       "    .dataframe thead th {\n",
       "        text-align: right;\n",
       "    }\n",
       "</style>\n",
       "<table border=\"1\" class=\"dataframe\">\n",
       "  <thead>\n",
       "    <tr style=\"text-align: right;\">\n",
       "      <th></th>\n",
       "      <th>Gender</th>\n",
       "      <th>Age</th>\n",
       "      <th>EstimatedSalary</th>\n",
       "      <th>Purchased</th>\n",
       "    </tr>\n",
       "  </thead>\n",
       "  <tbody>\n",
       "    <tr>\n",
       "      <th>0</th>\n",
       "      <td>0</td>\n",
       "      <td>19</td>\n",
       "      <td>19000</td>\n",
       "      <td>0</td>\n",
       "    </tr>\n",
       "    <tr>\n",
       "      <th>1</th>\n",
       "      <td>0</td>\n",
       "      <td>35</td>\n",
       "      <td>20000</td>\n",
       "      <td>0</td>\n",
       "    </tr>\n",
       "    <tr>\n",
       "      <th>2</th>\n",
       "      <td>1</td>\n",
       "      <td>26</td>\n",
       "      <td>43000</td>\n",
       "      <td>0</td>\n",
       "    </tr>\n",
       "    <tr>\n",
       "      <th>3</th>\n",
       "      <td>1</td>\n",
       "      <td>27</td>\n",
       "      <td>57000</td>\n",
       "      <td>0</td>\n",
       "    </tr>\n",
       "    <tr>\n",
       "      <th>4</th>\n",
       "      <td>0</td>\n",
       "      <td>19</td>\n",
       "      <td>76000</td>\n",
       "      <td>0</td>\n",
       "    </tr>\n",
       "    <tr>\n",
       "      <th>...</th>\n",
       "      <td>...</td>\n",
       "      <td>...</td>\n",
       "      <td>...</td>\n",
       "      <td>...</td>\n",
       "    </tr>\n",
       "    <tr>\n",
       "      <th>395</th>\n",
       "      <td>1</td>\n",
       "      <td>46</td>\n",
       "      <td>41000</td>\n",
       "      <td>1</td>\n",
       "    </tr>\n",
       "    <tr>\n",
       "      <th>396</th>\n",
       "      <td>0</td>\n",
       "      <td>51</td>\n",
       "      <td>23000</td>\n",
       "      <td>1</td>\n",
       "    </tr>\n",
       "    <tr>\n",
       "      <th>397</th>\n",
       "      <td>1</td>\n",
       "      <td>50</td>\n",
       "      <td>20000</td>\n",
       "      <td>1</td>\n",
       "    </tr>\n",
       "    <tr>\n",
       "      <th>398</th>\n",
       "      <td>0</td>\n",
       "      <td>36</td>\n",
       "      <td>33000</td>\n",
       "      <td>0</td>\n",
       "    </tr>\n",
       "    <tr>\n",
       "      <th>399</th>\n",
       "      <td>1</td>\n",
       "      <td>49</td>\n",
       "      <td>36000</td>\n",
       "      <td>1</td>\n",
       "    </tr>\n",
       "  </tbody>\n",
       "</table>\n",
       "<p>380 rows × 4 columns</p>\n",
       "</div>"
      ],
      "text/plain": [
       "     Gender  Age  EstimatedSalary  Purchased\n",
       "0         0   19            19000          0\n",
       "1         0   35            20000          0\n",
       "2         1   26            43000          0\n",
       "3         1   27            57000          0\n",
       "4         0   19            76000          0\n",
       "..      ...  ...              ...        ...\n",
       "395       1   46            41000          1\n",
       "396       0   51            23000          1\n",
       "397       1   50            20000          1\n",
       "398       0   36            33000          0\n",
       "399       1   49            36000          1\n",
       "\n",
       "[380 rows x 4 columns]"
      ]
     },
     "execution_count": 17,
     "metadata": {},
     "output_type": "execute_result"
    }
   ],
   "source": [
    "df"
   ]
  },
  {
   "cell_type": "markdown",
   "id": "cbbc9176-0c91-4938-9a7c-8c0d1fcba78d",
   "metadata": {},
   "source": [
    "### Univariate analysis : "
   ]
  },
  {
   "cell_type": "code",
   "execution_count": 19,
   "id": "33d6c29e-ddab-4214-a632-096789174d1f",
   "metadata": {},
   "outputs": [
    {
     "name": "stderr",
     "output_type": "stream",
     "text": [
      "C:\\Users\\SAMSUNG\\anaconda3\\Lib\\site-packages\\seaborn\\_oldcore.py:1119: FutureWarning: use_inf_as_na option is deprecated and will be removed in a future version. Convert inf values to NaN before operating instead.\n",
      "  with pd.option_context('mode.use_inf_as_na', True):\n"
     ]
    },
    {
     "data": {
      "image/png": "[encoded data removed]",
      "text/plain": [
       "<Figure size 640x480 with 1 Axes>"
      ]
     },
     "metadata": {},
     "output_type": "display_data"
    },
    {
     "name": "stderr",
     "output_type": "stream",
     "text": [
      "C:\\Users\\SAMSUNG\\anaconda3\\Lib\\site-packages\\seaborn\\_oldcore.py:1119: FutureWarning: use_inf_as_na option is deprecated and will be removed in a future version. Convert inf values to NaN before operating instead.\n",
      "  with pd.option_context('mode.use_inf_as_na', True):\n"
     ]
    },
    {
     "data": {
      "image/png": "[encoded data removed]",
      "text/plain": [
       "<Figure size 640x480 with 1 Axes>"
      ]
     },
     "metadata": {},
     "output_type": "display_data"
    }
   ],
   "source": [
    "columns = ['Age', 'EstimatedSalary']\n",
    "for col in columns: \n",
    "    sns.histplot(df[col])\n",
    "    plt.show()"
   ]
  },
  {
   "cell_type": "code",
   "execution_count": 20,
   "id": "c51ce67a-933e-43ae-b39b-5c62504f0c39",
   "metadata": {},
   "outputs": [
    {
     "name": "stdout",
     "output_type": "stream",
     "text": [
      "Age skewness = 0.23984276333506405\n",
      "EstimatedSalary skewness = 0.4612750800555465\n"
     ]
    }
   ],
   "source": [
    "# Checking skewness of the columns : \n",
    "for col in columns:\n",
    "    print(f\"{col} skewness = {df[col].skew()}\")"
   ]
  },
  {
   "cell_type": "markdown",
   "id": "6cfd6770-ec3d-48fd-81d1-d82b6182a548",
   "metadata": {},
   "source": [
    "### Univariate analysis for categorical columns "
   ]
  },
  {
   "cell_type": "code",
   "execution_count": 22,
   "id": "8a31db04-757f-42f3-9a45-7a7679906bb6",
   "metadata": {},
   "outputs": [
    {
     "data": {
      "image/png": "[encoded data removed]",
      "text/plain": [
       "<Figure size 640x480 with 1 Axes>"
      ]
     },
     "metadata": {},
     "output_type": "display_data"
    },
    {
     "data": {
      "image/png": "[encoded data removed]",
      "text/plain": [
       "<Figure size 640x480 with 1 Axes>"
      ]
     },
     "metadata": {},
     "output_type": "display_data"
    }
   ],
   "source": [
    "columns = ['Gender','Purchased' ]\n",
    "for col in columns: \n",
    "    sns.countplot(data=df, x=col)\n",
    "    plt.show()\n"
   ]
  },
  {
   "cell_type": "markdown",
   "id": "c9baf2ff-f28f-4415-9b94-9f7466fce2ed",
   "metadata": {},
   "source": [
    "##### We can see that we have quite an imbalanced data. \n",
    "##### Decision 4 : Use weight_class = 'balanced' for now, and then can opt for SMOTE "
   ]
  },
  {
   "cell_type": "code",
   "execution_count": 24,
   "id": "c46f7e7e-e66d-48f6-b3b3-745caf1457e9",
   "metadata": {},
   "outputs": [
    {
     "data": {
      "text/html": [
       "<div>\n",
       "<style scoped>\n",
       "    .dataframe tbody tr th:only-of-type {\n",
       "        vertical-align: middle;\n",
       "    }\n",
       "\n",
       "    .dataframe tbody tr th {\n",
       "        vertical-align: top;\n",
       "    }\n",
       "\n",
       "    .dataframe thead th {\n",
       "        text-align: right;\n",
       "    }\n",
       "</style>\n",
       "<table border=\"1\" class=\"dataframe\">\n",
       "  <thead>\n",
       "    <tr style=\"text-align: right;\">\n",
       "      <th></th>\n",
       "      <th>Gender</th>\n",
       "      <th>Age</th>\n",
       "      <th>EstimatedSalary</th>\n",
       "      <th>Purchased</th>\n",
       "    </tr>\n",
       "  </thead>\n",
       "  <tbody>\n",
       "    <tr>\n",
       "      <th>0</th>\n",
       "      <td>0</td>\n",
       "      <td>19</td>\n",
       "      <td>19000</td>\n",
       "      <td>0</td>\n",
       "    </tr>\n",
       "    <tr>\n",
       "      <th>1</th>\n",
       "      <td>0</td>\n",
       "      <td>35</td>\n",
       "      <td>20000</td>\n",
       "      <td>0</td>\n",
       "    </tr>\n",
       "    <tr>\n",
       "      <th>2</th>\n",
       "      <td>1</td>\n",
       "      <td>26</td>\n",
       "      <td>43000</td>\n",
       "      <td>0</td>\n",
       "    </tr>\n",
       "    <tr>\n",
       "      <th>3</th>\n",
       "      <td>1</td>\n",
       "      <td>27</td>\n",
       "      <td>57000</td>\n",
       "      <td>0</td>\n",
       "    </tr>\n",
       "    <tr>\n",
       "      <th>4</th>\n",
       "      <td>0</td>\n",
       "      <td>19</td>\n",
       "      <td>76000</td>\n",
       "      <td>0</td>\n",
       "    </tr>\n",
       "    <tr>\n",
       "      <th>...</th>\n",
       "      <td>...</td>\n",
       "      <td>...</td>\n",
       "      <td>...</td>\n",
       "      <td>...</td>\n",
       "    </tr>\n",
       "    <tr>\n",
       "      <th>395</th>\n",
       "      <td>1</td>\n",
       "      <td>46</td>\n",
       "      <td>41000</td>\n",
       "      <td>1</td>\n",
       "    </tr>\n",
       "    <tr>\n",
       "      <th>396</th>\n",
       "      <td>0</td>\n",
       "      <td>51</td>\n",
       "      <td>23000</td>\n",
       "      <td>1</td>\n",
       "    </tr>\n",
       "    <tr>\n",
       "      <th>397</th>\n",
       "      <td>1</td>\n",
       "      <td>50</td>\n",
       "      <td>20000</td>\n",
       "      <td>1</td>\n",
       "    </tr>\n",
       "    <tr>\n",
       "      <th>398</th>\n",
       "      <td>0</td>\n",
       "      <td>36</td>\n",
       "      <td>33000</td>\n",
       "      <td>0</td>\n",
       "    </tr>\n",
       "    <tr>\n",
       "      <th>399</th>\n",
       "      <td>1</td>\n",
       "      <td>49</td>\n",
       "      <td>36000</td>\n",
       "      <td>1</td>\n",
       "    </tr>\n",
       "  </tbody>\n",
       "</table>\n",
       "<p>380 rows × 4 columns</p>\n",
       "</div>"
      ],
      "text/plain": [
       "     Gender  Age  EstimatedSalary  Purchased\n",
       "0         0   19            19000          0\n",
       "1         0   35            20000          0\n",
       "2         1   26            43000          0\n",
       "3         1   27            57000          0\n",
       "4         0   19            76000          0\n",
       "..      ...  ...              ...        ...\n",
       "395       1   46            41000          1\n",
       "396       0   51            23000          1\n",
       "397       1   50            20000          1\n",
       "398       0   36            33000          0\n",
       "399       1   49            36000          1\n",
       "\n",
       "[380 rows x 4 columns]"
      ]
     },
     "execution_count": 24,
     "metadata": {},
     "output_type": "execute_result"
    }
   ],
   "source": [
    "df"
   ]
  },
  {
   "cell_type": "markdown",
   "id": "7e2a6b24-4401-40c8-9e8d-68f6e960ed88",
   "metadata": {},
   "source": [
    "Okay, our data is all set for model training. We have only 4 features in this dataset.I am not doing feature selection. As i feel all are contributing. "
   ]
  },
  {
   "cell_type": "code",
   "execution_count": 26,
   "id": "f83c9ea1-215c-4fa5-9f36-885873180c85",
   "metadata": {},
   "outputs": [
    {
     "data": {
      "text/plain": [
       "Gender             0.044257\n",
       "Age                0.626505\n",
       "EstimatedSalary    0.374928\n",
       "Purchased          1.000000\n",
       "dtype: float64"
      ]
     },
     "execution_count": 26,
     "metadata": {},
     "output_type": "execute_result"
    }
   ],
   "source": [
    "corr = df.corrwith(df['Purchased'])\n",
    "corr"
   ]
  },
  {
   "cell_type": "markdown",
   "id": "5c742a66-c545-4cf7-9e17-d10edee51e19",
   "metadata": {},
   "source": [
    "We can see that Age is the column which is most contributing and then Estimated Salary and then Gender is contributing very less. "
   ]
  },
  {
   "cell_type": "markdown",
   "id": "0f70444b-77ce-4f6a-9280-1b2c7bf19401",
   "metadata": {},
   "source": [
    "Let's see of dropping after the training accuracy and metrics evaluation "
   ]
  },
  {
   "cell_type": "code",
   "execution_count": 29,
   "id": "2b850ae3-3e2f-4208-935a-4e176563a734",
   "metadata": {},
   "outputs": [
    {
     "data": {
      "text/html": [
       "<div>\n",
       "<style scoped>\n",
       "    .dataframe tbody tr th:only-of-type {\n",
       "        vertical-align: middle;\n",
       "    }\n",
       "\n",
       "    .dataframe tbody tr th {\n",
       "        vertical-align: top;\n",
       "    }\n",
       "\n",
       "    .dataframe thead th {\n",
       "        text-align: right;\n",
       "    }\n",
       "</style>\n",
       "<table border=\"1\" class=\"dataframe\">\n",
       "  <thead>\n",
       "    <tr style=\"text-align: right;\">\n",
       "      <th></th>\n",
       "      <th>Gender</th>\n",
       "      <th>Age</th>\n",
       "      <th>EstimatedSalary</th>\n",
       "      <th>Purchased</th>\n",
       "    </tr>\n",
       "  </thead>\n",
       "  <tbody>\n",
       "    <tr>\n",
       "      <th>0</th>\n",
       "      <td>0</td>\n",
       "      <td>19</td>\n",
       "      <td>19000</td>\n",
       "      <td>0</td>\n",
       "    </tr>\n",
       "    <tr>\n",
       "      <th>1</th>\n",
       "      <td>0</td>\n",
       "      <td>35</td>\n",
       "      <td>20000</td>\n",
       "      <td>0</td>\n",
       "    </tr>\n",
       "    <tr>\n",
       "      <th>2</th>\n",
       "      <td>1</td>\n",
       "      <td>26</td>\n",
       "      <td>43000</td>\n",
       "      <td>0</td>\n",
       "    </tr>\n",
       "    <tr>\n",
       "      <th>3</th>\n",
       "      <td>1</td>\n",
       "      <td>27</td>\n",
       "      <td>57000</td>\n",
       "      <td>0</td>\n",
       "    </tr>\n",
       "    <tr>\n",
       "      <th>4</th>\n",
       "      <td>0</td>\n",
       "      <td>19</td>\n",
       "      <td>76000</td>\n",
       "      <td>0</td>\n",
       "    </tr>\n",
       "    <tr>\n",
       "      <th>...</th>\n",
       "      <td>...</td>\n",
       "      <td>...</td>\n",
       "      <td>...</td>\n",
       "      <td>...</td>\n",
       "    </tr>\n",
       "    <tr>\n",
       "      <th>395</th>\n",
       "      <td>1</td>\n",
       "      <td>46</td>\n",
       "      <td>41000</td>\n",
       "      <td>1</td>\n",
       "    </tr>\n",
       "    <tr>\n",
       "      <th>396</th>\n",
       "      <td>0</td>\n",
       "      <td>51</td>\n",
       "      <td>23000</td>\n",
       "      <td>1</td>\n",
       "    </tr>\n",
       "    <tr>\n",
       "      <th>397</th>\n",
       "      <td>1</td>\n",
       "      <td>50</td>\n",
       "      <td>20000</td>\n",
       "      <td>1</td>\n",
       "    </tr>\n",
       "    <tr>\n",
       "      <th>398</th>\n",
       "      <td>0</td>\n",
       "      <td>36</td>\n",
       "      <td>33000</td>\n",
       "      <td>0</td>\n",
       "    </tr>\n",
       "    <tr>\n",
       "      <th>399</th>\n",
       "      <td>1</td>\n",
       "      <td>49</td>\n",
       "      <td>36000</td>\n",
       "      <td>1</td>\n",
       "    </tr>\n",
       "  </tbody>\n",
       "</table>\n",
       "<p>380 rows × 4 columns</p>\n",
       "</div>"
      ],
      "text/plain": [
       "     Gender  Age  EstimatedSalary  Purchased\n",
       "0         0   19            19000          0\n",
       "1         0   35            20000          0\n",
       "2         1   26            43000          0\n",
       "3         1   27            57000          0\n",
       "4         0   19            76000          0\n",
       "..      ...  ...              ...        ...\n",
       "395       1   46            41000          1\n",
       "396       0   51            23000          1\n",
       "397       1   50            20000          1\n",
       "398       0   36            33000          0\n",
       "399       1   49            36000          1\n",
       "\n",
       "[380 rows x 4 columns]"
      ]
     },
     "execution_count": 29,
     "metadata": {},
     "output_type": "execute_result"
    }
   ],
   "source": [
    "df"
   ]
  },
  {
   "cell_type": "code",
   "execution_count": 30,
   "id": "fa3b13e4-f3c1-491f-83a7-5a34da4ddebf",
   "metadata": {},
   "outputs": [],
   "source": [
    "X = df.drop('Purchased', axis=1)\n",
    "y = df['Purchased']"
   ]
  },
  {
   "cell_type": "code",
   "execution_count": 31,
   "id": "d1deb037-37c7-4179-8f32-53abc613a686",
   "metadata": {},
   "outputs": [
    {
     "data": {
      "text/html": [
       "<div>\n",
       "<style scoped>\n",
       "    .dataframe tbody tr th:only-of-type {\n",
       "        vertical-align: middle;\n",
       "    }\n",
       "\n",
       "    .dataframe tbody tr th {\n",
       "        vertical-align: top;\n",
       "    }\n",
       "\n",
       "    .dataframe thead th {\n",
       "        text-align: right;\n",
       "    }\n",
       "</style>\n",
       "<table border=\"1\" class=\"dataframe\">\n",
       "  <thead>\n",
       "    <tr style=\"text-align: right;\">\n",
       "      <th></th>\n",
       "      <th>Gender</th>\n",
       "      <th>Age</th>\n",
       "      <th>EstimatedSalary</th>\n",
       "    </tr>\n",
       "  </thead>\n",
       "  <tbody>\n",
       "    <tr>\n",
       "      <th>0</th>\n",
       "      <td>0</td>\n",
       "      <td>19</td>\n",
       "      <td>19000</td>\n",
       "    </tr>\n",
       "    <tr>\n",
       "      <th>1</th>\n",
       "      <td>0</td>\n",
       "      <td>35</td>\n",
       "      <td>20000</td>\n",
       "    </tr>\n",
       "    <tr>\n",
       "      <th>2</th>\n",
       "      <td>1</td>\n",
       "      <td>26</td>\n",
       "      <td>43000</td>\n",
       "    </tr>\n",
       "    <tr>\n",
       "      <th>3</th>\n",
       "      <td>1</td>\n",
       "      <td>27</td>\n",
       "      <td>57000</td>\n",
       "    </tr>\n",
       "    <tr>\n",
       "      <th>4</th>\n",
       "      <td>0</td>\n",
       "      <td>19</td>\n",
       "      <td>76000</td>\n",
       "    </tr>\n",
       "    <tr>\n",
       "      <th>...</th>\n",
       "      <td>...</td>\n",
       "      <td>...</td>\n",
       "      <td>...</td>\n",
       "    </tr>\n",
       "    <tr>\n",
       "      <th>395</th>\n",
       "      <td>1</td>\n",
       "      <td>46</td>\n",
       "      <td>41000</td>\n",
       "    </tr>\n",
       "    <tr>\n",
       "      <th>396</th>\n",
       "      <td>0</td>\n",
       "      <td>51</td>\n",
       "      <td>23000</td>\n",
       "    </tr>\n",
       "    <tr>\n",
       "      <th>397</th>\n",
       "      <td>1</td>\n",
       "      <td>50</td>\n",
       "      <td>20000</td>\n",
       "    </tr>\n",
       "    <tr>\n",
       "      <th>398</th>\n",
       "      <td>0</td>\n",
       "      <td>36</td>\n",
       "      <td>33000</td>\n",
       "    </tr>\n",
       "    <tr>\n",
       "      <th>399</th>\n",
       "      <td>1</td>\n",
       "      <td>49</td>\n",
       "      <td>36000</td>\n",
       "    </tr>\n",
       "  </tbody>\n",
       "</table>\n",
       "<p>380 rows × 3 columns</p>\n",
       "</div>"
      ],
      "text/plain": [
       "     Gender  Age  EstimatedSalary\n",
       "0         0   19            19000\n",
       "1         0   35            20000\n",
       "2         1   26            43000\n",
       "3         1   27            57000\n",
       "4         0   19            76000\n",
       "..      ...  ...              ...\n",
       "395       1   46            41000\n",
       "396       0   51            23000\n",
       "397       1   50            20000\n",
       "398       0   36            33000\n",
       "399       1   49            36000\n",
       "\n",
       "[380 rows x 3 columns]"
      ]
     },
     "execution_count": 31,
     "metadata": {},
     "output_type": "execute_result"
    }
   ],
   "source": [
    "X"
   ]
  },
  {
   "cell_type": "code",
   "execution_count": 32,
   "id": "ed05d73b-ed04-4e42-af6a-003fd38fb50b",
   "metadata": {},
   "outputs": [
    {
     "data": {
      "text/plain": [
       "0      0\n",
       "1      0\n",
       "2      0\n",
       "3      0\n",
       "4      0\n",
       "      ..\n",
       "395    1\n",
       "396    1\n",
       "397    1\n",
       "398    0\n",
       "399    1\n",
       "Name: Purchased, Length: 380, dtype: int64"
      ]
     },
     "execution_count": 32,
     "metadata": {},
     "output_type": "execute_result"
    }
   ],
   "source": [
    "y"
   ]
  },
  {
   "cell_type": "code",
   "execution_count": 33,
   "id": "6bca0344-1ab7-4140-b237-bd6abd1afab7",
   "metadata": {},
   "outputs": [],
   "source": [
    "# train test split \n",
    "from sklearn.model_selection import train_test_split\n",
    "X_train, X_test, y_train, y_test = train_test_split(X,y,test_size=0.2,random_state=42)"
   ]
  },
  {
   "cell_type": "code",
   "execution_count": 34,
   "id": "2c9f0f85-9df3-40f5-a6f7-f70ff97a44b6",
   "metadata": {},
   "outputs": [],
   "source": [
    "# Feature scaling \n",
    "from sklearn.preprocessing import StandardScaler\n",
    "scaler = StandardScaler()\n",
    "X_train_scaled = scaler.fit_transform(X_train)\n",
    "X_test_scaled = scaler.transform(X_test)"
   ]
  },
  {
   "cell_type": "code",
   "execution_count": 35,
   "id": "bfe7ba92-00a8-41bf-86b6-fc0d53993041",
   "metadata": {},
   "outputs": [
    {
     "data": {
      "text/plain": [
       "array([[ 0.96762892, -0.90071374,  0.50506469],\n",
       "       [ 0.96762892, -0.23100066, -0.30146663],\n",
       "       [-1.03345402,  0.43871242, -0.48069581],\n",
       "       [-1.03345402,  0.24736583, -0.39108122],\n",
       "       [ 0.96762892,  1.39544539,  1.311596  ],\n",
       "       [-1.03345402, -0.23100066,  0.14660632],\n",
       "       [ 0.96762892,  0.43871242,  0.29596398],\n",
       "       [ 0.96762892,  2.16083176, -0.71966805],\n",
       "       [ 0.96762892,  0.9170789 ,  1.28172447],\n",
       "       [-1.03345402, -1.8574467 , -0.54043887],\n",
       "       [ 0.96762892, -0.23100066, -0.77941111],\n",
       "       [-1.03345402, -0.03965406, -0.54043887],\n",
       "       [-1.03345402,  0.9170789 , -1.34697018],\n",
       "       [-1.03345402, -1.28340692, -1.52619936],\n",
       "       [ 0.96762892, -1.8574467 , -0.06249439],\n",
       "       [ 0.96762892, -0.51802055,  2.38697108],\n",
       "       [-1.03345402, -1.18773363, -1.43658477],\n",
       "       [ 0.96762892, -0.03965406,  0.29596398],\n",
       "       [-1.03345402,  0.15169253,  0.20634938],\n",
       "       [-1.03345402,  0.15169253,  0.0271202 ],\n",
       "       [ 0.96762892, -0.03965406,  0.0271202 ],\n",
       "       [-1.03345402,  0.82140561,  0.53493622],\n",
       "       [ 0.96762892,  1.0127522 , -1.04825488],\n",
       "       [-1.03345402,  0.15169253,  1.9090266 ],\n",
       "       [-1.03345402, -0.99638703, -1.49632783],\n",
       "       [ 0.96762892,  1.39544539,  0.59467928],\n",
       "       [ 0.96762892,  1.96948517, -1.40671324],\n",
       "       [-1.03345402, -0.51802055,  0.89339458],\n",
       "       [ 0.96762892, -0.03965406,  2.26748496],\n",
       "       [ 0.96762892,  0.34303912, -1.19761253],\n",
       "       [-1.03345402,  0.72573231, -1.31709865],\n",
       "       [ 0.96762892, -0.03965406,  1.99864119],\n",
       "       [-1.03345402,  0.82140561, -1.40671324],\n",
       "       [-1.03345402, -1.76177341, -1.34697018],\n",
       "       [-1.03345402,  0.9170789 ,  1.04275223],\n",
       "       [ 0.96762892,  1.96948517, -0.68979652],\n",
       "       [-1.03345402, -0.13532736, -0.30146663],\n",
       "       [ 0.96762892, -0.80504044, -0.68979652],\n",
       "       [-1.03345402,  1.49111869,  0.05699173],\n",
       "       [-1.03345402, -0.13532736,  0.86352305],\n",
       "       [ 0.96762892,  0.82140561, -0.8690257 ],\n",
       "       [ 0.96762892,  0.53438572,  1.25185294],\n",
       "       [-1.03345402,  1.77813858,  1.87915507],\n",
       "       [ 0.96762892, -1.8574467 ,  0.47519316],\n",
       "       [-1.03345402,  0.43871242, -0.15210898],\n",
       "       [ 0.96762892, -0.03965406,  0.68429387],\n",
       "       [-1.03345402, -0.03965406,  0.05699173],\n",
       "       [-1.03345402, -0.23100066, -0.92876876],\n",
       "       [ 0.96762892, -0.23100066,  0.0271202 ],\n",
       "       [ 0.96762892,  1.0127522 , -1.22748406],\n",
       "       [-1.03345402, -0.80504044,  0.14660632],\n",
       "       [-1.03345402, -0.70936714,  0.29596398],\n",
       "       [ 0.96762892, -0.90071374, -0.45082428],\n",
       "       [-1.03345402, -0.23100066, -0.33133816],\n",
       "       [-1.03345402,  0.82140561,  1.40121059],\n",
       "       [ 0.96762892, -0.42234725, -1.25735559],\n",
       "       [-1.03345402,  2.06515847,  1.78954048],\n",
       "       [ 0.96762892,  0.15169253,  0.08686326],\n",
       "       [-1.03345402, -0.42234725, -0.80928264],\n",
       "       [ 0.96762892, -0.42234725, -0.30146663],\n",
       "       [ 0.96762892, -0.51802055,  1.40121059],\n",
       "       [-1.03345402, -0.03965406, -0.45082428],\n",
       "       [-1.03345402,  0.24736583, -0.68979652],\n",
       "       [ 0.96762892, -0.99638703,  0.4154501 ],\n",
       "       [ 0.96762892,  0.34303912, -0.21185204],\n",
       "       [-1.03345402,  1.68246528, -0.92876876],\n",
       "       [ 0.96762892, -1.09206033,  0.29596398],\n",
       "       [ 0.96762892, -0.61369384, -1.07812641],\n",
       "       [-1.03345402, -1.57042681,  0.05699173],\n",
       "       [-1.03345402, -1.66610011, -0.63005346],\n",
       "       [ 0.96762892,  0.9170789 , -0.5703104 ],\n",
       "       [ 0.96762892, -0.13532736,  1.67005436],\n",
       "       [ 0.96762892, -0.70936714,  0.26609245],\n",
       "       [-1.03345402, -0.23100066, -0.36120969],\n",
       "       [ 0.96762892,  0.43871242, -0.00275133],\n",
       "       [ 0.96762892, -0.61369384, -1.64568548],\n",
       "       [-1.03345402, -1.47475352,  0.32583551],\n",
       "       [-1.03345402, -1.28340692, -1.40671324],\n",
       "       [-1.03345402, -1.66610011,  0.11673479],\n",
       "       [ 0.96762892,  2.16083176,  1.13236682],\n",
       "       [ 0.96762892, -0.80504044, -1.25735559],\n",
       "       [ 0.96762892, -0.61369384, -0.06249439],\n",
       "       [ 0.96762892,  0.15169253, -0.2715951 ],\n",
       "       [-1.03345402, -0.23100066,  0.08686326],\n",
       "       [ 0.96762892, -1.28340692,  0.56480775],\n",
       "       [ 0.96762892, -0.13532736, -0.21185204],\n",
       "       [ 0.96762892, -0.90071374, -0.98851182],\n",
       "       [ 0.96762892,  1.20409879, -1.01838335],\n",
       "       [ 0.96762892, -1.47475352, -0.21185204],\n",
       "       [ 0.96762892,  0.72573231, -1.43658477],\n",
       "       [-1.03345402, -0.70936714, -0.63005346],\n",
       "       [ 0.96762892, -0.99638703,  0.77390846],\n",
       "       [ 0.96762892,  0.34303912, -0.5703104 ],\n",
       "       [ 0.96762892, -1.37908022,  0.35570704],\n",
       "       [ 0.96762892, -0.32667395,  0.05699173],\n",
       "       [ 0.96762892,  0.15169253,  1.9090266 ],\n",
       "       [ 0.96762892,  1.68246528,  1.78954048],\n",
       "       [-1.03345402, -0.13532736,  1.64018283],\n",
       "       [ 0.96762892, -0.51802055,  1.40121059],\n",
       "       [-1.03345402, -1.09206033, -1.13786947],\n",
       "       [-1.03345402, -0.80504044, -0.2715951 ],\n",
       "       [-1.03345402, -0.03965406,  2.2077419 ],\n",
       "       [ 0.96762892, -0.90071374,  0.44532163],\n",
       "       [ 0.96762892, -0.03965406, -0.39108122],\n",
       "       [-1.03345402, -0.03965406, -0.00275133],\n",
       "       [-1.03345402,  0.05601923, -0.5703104 ],\n",
       "       [ 0.96762892, -1.66610011, -1.01838335],\n",
       "       [ 0.96762892, -0.23100066, -0.39108122],\n",
       "       [-1.03345402, -0.61369384, -0.12223745],\n",
       "       [ 0.96762892,  0.24736583, -0.30146663],\n",
       "       [-1.03345402,  0.05601923,  0.0271202 ],\n",
       "       [-1.03345402, -0.23100066, -1.43658477],\n",
       "       [ 0.96762892, -0.03965406, -0.24172357],\n",
       "       [-1.03345402, -0.42234725, -1.167741  ],\n",
       "       [ 0.96762892, -1.09206033,  0.05699173],\n",
       "       [ 0.96762892, -1.09206033, -0.54043887],\n",
       "       [ 0.96762892, -0.23100066,  0.05699173],\n",
       "       [-1.03345402, -0.23100066,  0.05699173],\n",
       "       [-1.03345402,  1.87381187, -0.30146663],\n",
       "       [-1.03345402,  0.43871242,  0.29596398],\n",
       "       [ 0.96762892, -0.61369384,  0.0271202 ],\n",
       "       [-1.03345402, -0.13532736,  2.2077419 ],\n",
       "       [ 0.96762892,  1.49111869,  1.0128807 ],\n",
       "       [-1.03345402,  0.34303912, -0.33133816],\n",
       "       [-1.03345402,  0.43871242,  1.0128807 ],\n",
       "       [ 0.96762892,  0.63005901,  2.05838425],\n",
       "       [ 0.96762892,  2.06515847,  0.53493622],\n",
       "       [ 0.96762892,  0.43871242, -0.51056734],\n",
       "       [ 0.96762892, -1.47475352, -0.45082428],\n",
       "       [ 0.96762892,  1.49111869,  2.17787037],\n",
       "       [ 0.96762892, -0.90071374, -0.33133816],\n",
       "       [-1.03345402,  0.82140561, -0.33133816],\n",
       "       [ 0.96762892,  0.34303912,  0.0271202 ],\n",
       "       [-1.03345402,  1.1084255 ,  0.11673479],\n",
       "       [-1.03345402,  0.9170789 , -1.40671324],\n",
       "       [ 0.96762892, -1.09206033, -0.80928264],\n",
       "       [ 0.96762892,  0.24736583,  2.14799884],\n",
       "       [-1.03345402, -0.13532736, -0.54043887],\n",
       "       [ 0.96762892,  1.58679198,  1.13236682],\n",
       "       [-1.03345402,  2.16083176,  0.95313764],\n",
       "       [-1.03345402,  1.1084255 , -1.25735559],\n",
       "       [ 0.96762892,  0.24736583,  0.14660632],\n",
       "       [-1.03345402,  0.72573231,  0.26609245],\n",
       "       [ 0.96762892,  0.24736583,  0.05699173],\n",
       "       [ 0.96762892,  1.29977209,  1.9090266 ],\n",
       "       [-1.03345402, -0.23100066,  0.26609245],\n",
       "       [ 0.96762892, -1.09206033,  0.4154501 ],\n",
       "       [-1.03345402, -0.32667395,  1.25185294],\n",
       "       [ 0.96762892,  0.15169253,  0.26609245],\n",
       "       [-1.03345402, -0.61369384, -1.55607089],\n",
       "       [ 0.96762892, -0.70936714, -0.24172357],\n",
       "       [-1.03345402,  2.16083176,  0.38557857],\n",
       "       [ 0.96762892,  0.05601923,  0.29596398],\n",
       "       [ 0.96762892,  1.20409879, -0.77941111],\n",
       "       [ 0.96762892,  1.77813858,  1.0128807 ],\n",
       "       [-1.03345402, -1.37908022, -0.21185204],\n",
       "       [ 0.96762892, -0.42234725, -0.8690257 ],\n",
       "       [ 0.96762892,  1.39544539, -1.4664563 ],\n",
       "       [ 0.96762892, -0.90071374,  0.4154501 ],\n",
       "       [-1.03345402, -0.13532736, -1.10799794],\n",
       "       [-1.03345402, -1.28340692, -0.36120969],\n",
       "       [ 0.96762892, -0.03965406,  0.23622091],\n",
       "       [-1.03345402, -1.28340692, -0.45082428],\n",
       "       [-1.03345402, -0.90071374, -1.13786947],\n",
       "       [-1.03345402, -1.18773363,  0.29596398],\n",
       "       [-1.03345402, -1.18773363,  0.59467928],\n",
       "       [-1.03345402, -1.66610011,  0.47519316],\n",
       "       [-1.03345402, -0.23100066, -1.28722712],\n",
       "       [-1.03345402, -0.80504044, -0.80928264],\n",
       "       [ 0.96762892, -1.09206033,  1.43108212],\n",
       "       [ 0.96762892, -0.32667395, -1.34697018],\n",
       "       [ 0.96762892,  0.05601923, -0.60018193],\n",
       "       [-1.03345402,  0.34303912,  0.50506469],\n",
       "       [-1.03345402, -0.61369384,  0.17647785],\n",
       "       [-1.03345402,  1.1084255 ,  0.47519316],\n",
       "       [-1.03345402, -0.03965406, -0.51056734],\n",
       "       [ 0.96762892, -1.57042681, -0.06249439],\n",
       "       [-1.03345402, -0.90071374,  1.58043977],\n",
       "       [ 0.96762892,  1.58679198, -1.31709865],\n",
       "       [ 0.96762892, -1.8574467 , -0.77941111],\n",
       "       [ 0.96762892, -0.23100066, -0.60018193],\n",
       "       [-1.03345402,  1.1084255 ,  0.56480775],\n",
       "       [-1.03345402,  0.43871242,  0.08686326],\n",
       "       [-1.03345402, -1.09206033, -1.61581395],\n",
       "       [ 0.96762892, -0.42234725, -0.5703104 ],\n",
       "       [ 0.96762892,  1.87381187, -1.10799794],\n",
       "       [ 0.96762892,  1.0127522 ,  0.77390846],\n",
       "       [ 0.96762892,  1.68246528,  1.64018283],\n",
       "       [ 0.96762892,  1.0127522 ,  1.81941201],\n",
       "       [-1.03345402, -1.76177341,  0.17647785],\n",
       "       [-1.03345402,  1.0127522 ,  0.59467928],\n",
       "       [ 0.96762892,  0.43871242,  0.59467928],\n",
       "       [ 0.96762892, -0.51802055,  0.47519316],\n",
       "       [ 0.96762892, -0.23100066,  2.29735649],\n",
       "       [ 0.96762892, -0.13532736, -0.48069581],\n",
       "       [-1.03345402,  0.24736583,  0.23622091],\n",
       "       [ 0.96762892, -0.32667395, -0.80928264],\n",
       "       [-1.03345402, -0.99638703,  0.53493622],\n",
       "       [-1.03345402,  2.06515847,  2.17787037],\n",
       "       [-1.03345402, -1.18773363,  0.50506469],\n",
       "       [ 0.96762892, -0.99638703, -0.48069581],\n",
       "       [ 0.96762892, -1.57042681, -1.61581395],\n",
       "       [-1.03345402,  1.87381187,  0.11673479],\n",
       "       [ 0.96762892,  1.96948517,  0.92326611],\n",
       "       [ 0.96762892,  0.05601923,  1.28172447],\n",
       "       [ 0.96762892,  0.9170789 , -1.19761253],\n",
       "       [ 0.96762892,  1.1084255 ,  2.11812731],\n",
       "       [-1.03345402,  0.82140561,  0.26609245],\n",
       "       [ 0.96762892,  0.9170789 ,  2.2077419 ],\n",
       "       [ 0.96762892, -0.42234725, -0.03262286],\n",
       "       [-1.03345402,  0.24736583, -0.15210898],\n",
       "       [-1.03345402, -1.76177341,  0.44532163],\n",
       "       [ 0.96762892, -1.37908022, -0.12223745],\n",
       "       [-1.03345402, -0.70936714,  1.10249529],\n",
       "       [-1.03345402, -0.61369384, -0.36120969],\n",
       "       [-1.03345402, -1.18773363, -1.10799794],\n",
       "       [ 0.96762892,  2.06515847,  0.38557857],\n",
       "       [-1.03345402, -1.8574467 ,  0.35570704],\n",
       "       [-1.03345402, -1.09206033, -1.19761253],\n",
       "       [ 0.96762892, -0.99638703, -1.58594242],\n",
       "       [ 0.96762892,  0.9170789 , -0.60018193],\n",
       "       [-1.03345402, -0.03965406,  0.14660632],\n",
       "       [ 0.96762892,  0.34303912,  0.29596398],\n",
       "       [ 0.96762892,  1.0127522 ,  2.02851272],\n",
       "       [ 0.96762892,  0.05601923, -0.45082428],\n",
       "       [ 0.96762892,  1.20409879,  0.53493622],\n",
       "       [-1.03345402,  1.39544539,  2.38697108],\n",
       "       [-1.03345402,  1.1084255 , -0.15210898],\n",
       "       [-1.03345402, -0.03965406,  0.26609245],\n",
       "       [-1.03345402,  0.53438572,  1.75966895],\n",
       "       [ 0.96762892,  0.72573231,  1.81941201],\n",
       "       [-1.03345402,  0.9170789 , -1.07812641],\n",
       "       [ 0.96762892,  1.49111869, -1.07812641],\n",
       "       [-1.03345402,  0.15169253,  0.77390846],\n",
       "       [-1.03345402,  1.1084255 ,  0.53493622],\n",
       "       [ 0.96762892,  0.9170789 , -0.68979652],\n",
       "       [-1.03345402, -0.23100066, -0.95864029],\n",
       "       [-1.03345402, -0.70936714, -1.64568548],\n",
       "       [-1.03345402, -0.23100066,  0.62455081],\n",
       "       [-1.03345402, -0.90071374,  0.56480775],\n",
       "       [-1.03345402,  0.72573231, -1.13786947],\n",
       "       [-1.03345402, -0.03965406,  0.11673479],\n",
       "       [-1.03345402, -0.99638703,  0.56480775],\n",
       "       [ 0.96762892, -0.23100066, -1.40671324],\n",
       "       [-1.03345402, -0.23100066, -1.49632783],\n",
       "       [ 0.96762892, -0.61369384,  0.56480775],\n",
       "       [-1.03345402,  0.15169253, -0.83915417],\n",
       "       [ 0.96762892,  0.82140561, -1.43658477],\n",
       "       [-1.03345402, -0.99638703,  0.59467928],\n",
       "       [ 0.96762892,  2.06515847,  0.17647785],\n",
       "       [-1.03345402, -1.09206033, -1.64568548],\n",
       "       [ 0.96762892, -0.80504044,  0.38557857],\n",
       "       [-1.03345402,  2.16083176, -0.83915417],\n",
       "       [ 0.96762892,  1.87381187,  1.55056824],\n",
       "       [-1.03345402, -0.51802055, -1.55607089],\n",
       "       [ 0.96762892,  0.34303912, -0.30146663],\n",
       "       [-1.03345402, -0.23100066, -0.60018193],\n",
       "       [-1.03345402, -0.23100066, -0.2715951 ],\n",
       "       [-1.03345402, -0.80504044,  2.32722802],\n",
       "       [-1.03345402,  0.15169253,  1.55056824],\n",
       "       [ 0.96762892,  0.72573231, -0.74953958],\n",
       "       [ 0.96762892, -1.66610011,  0.35570704],\n",
       "       [ 0.96762892,  0.15169253,  0.14660632],\n",
       "       [-1.03345402,  1.0127522 , -1.10799794],\n",
       "       [ 0.96762892,  0.9170789 ,  1.10249529],\n",
       "       [ 0.96762892, -0.23100066,  0.80377999],\n",
       "       [ 0.96762892, -0.99638703, -0.36120969],\n",
       "       [ 0.96762892, -1.28340692, -1.13786947],\n",
       "       [ 0.96762892, -0.23100066, -0.68979652],\n",
       "       [-1.03345402, -1.76177341, -0.00275133],\n",
       "       [ 0.96762892,  1.20409879, -1.49632783],\n",
       "       [-1.03345402, -1.28340692,  0.4154501 ],\n",
       "       [-1.03345402, -0.32667395,  1.34146753],\n",
       "       [-1.03345402, -1.47475352, -1.55607089],\n",
       "       [-1.03345402, -0.70936714,  1.93889813],\n",
       "       [-1.03345402,  0.24736583,  0.0271202 ],\n",
       "       [-1.03345402,  0.05601923, -0.33133816],\n",
       "       [ 0.96762892, -0.23100066,  0.20634938],\n",
       "       [ 0.96762892,  0.9170789 , -0.63005346],\n",
       "       [ 0.96762892,  1.0127522 , -1.19761253],\n",
       "       [ 0.96762892, -0.03965406, -1.10799794],\n",
       "       [-1.03345402,  1.0127522 ,  2.11812731],\n",
       "       [-1.03345402, -0.32667395, -0.80928264],\n",
       "       [-1.03345402,  1.0127522 ,  0.11673479],\n",
       "       [-1.03345402,  1.58679198, -0.00275133],\n",
       "       [ 0.96762892,  0.43871242,  1.13236682],\n",
       "       [-1.03345402, -0.23100066, -0.45082428],\n",
       "       [-1.03345402,  0.34303912, -0.74953958],\n",
       "       [-1.03345402, -0.70936714,  0.50506469],\n",
       "       [ 0.96762892, -0.13532736, -0.60018193],\n",
       "       [ 0.96762892,  0.82140561,  0.11673479],\n",
       "       [-1.03345402, -0.90071374, -0.33133816],\n",
       "       [-1.03345402, -1.09206033,  0.32583551],\n",
       "       [ 0.96762892,  0.05601923, -0.15210898],\n",
       "       [ 0.96762892,  0.82140561,  0.77390846],\n",
       "       [-1.03345402, -0.23100066, -0.51056734],\n",
       "       [ 0.96762892,  1.1084255 , -1.01838335],\n",
       "       [-1.03345402,  0.72573231, -1.43658477],\n",
       "       [ 0.96762892, -1.76177341, -1.31709865],\n",
       "       [ 0.96762892, -1.28340692, -1.28722712],\n",
       "       [-1.03345402, -1.09206033,  0.47519316],\n",
       "       [ 0.96762892,  1.39544539, -0.95864029],\n",
       "       [ 0.96762892,  0.43871242,  0.26609245],\n",
       "       [ 0.96762892, -1.76177341, -1.4664563 ]])"
      ]
     },
     "execution_count": 35,
     "metadata": {},
     "output_type": "execute_result"
    }
   ],
   "source": [
    "X_train_scaled"
   ]
  },
  {
   "cell_type": "code",
   "execution_count": 36,
   "id": "7fd04cdf-a988-41ba-9b3d-2ada6a96a7fa",
   "metadata": {},
   "outputs": [
    {
     "name": "stdout",
     "output_type": "stream",
     "text": [
      "LogisticRegression(class_weight='balanced') : \n",
      "Accuracy score = 0.8026315789473685\n",
      "SVC() : \n",
      "Accuracy score = 0.8947368421052632\n",
      "GaussianNB() : \n",
      "Accuracy score = 0.9210526315789473\n",
      "DecisionTreeClassifier() : \n",
      "Accuracy score = 0.7894736842105263\n"
     ]
    }
   ],
   "source": [
    "from sklearn.linear_model import LogisticRegression\n",
    "from sklearn.svm import SVC \n",
    "from sklearn.naive_bayes import  GaussianNB \n",
    "from sklearn.tree import DecisionTreeClassifier\n",
    "from sklearn.metrics import accuracy_score, precision_score, f1_score, recall_score\n",
    "\n",
    "models = {\n",
    "    'Logistic Regression': LogisticRegression(class_weight='balanced'),\n",
    "    'SVM' : SVC(),\n",
    "    'naive bayes' : GaussianNB(), \n",
    "    'dt' : DecisionTreeClassifier()\n",
    "}\n",
    "for key,model in models.items():\n",
    "    model.fit(X_train_scaled, y_train)\n",
    "    pred = model.predict(X_test_scaled)\n",
    "\n",
    "    print(f\"{model} : \")\n",
    "    print(f\"Accuracy score = {accuracy_score(y_test, pred)}\")\n",
    "    "
   ]
  },
  {
   "cell_type": "code",
   "execution_count": 37,
   "id": "6499d571-ba6c-4b2f-8aa4-f049363bcc5e",
   "metadata": {},
   "outputs": [],
   "source": [
    "# best model using : \n",
    "best_model = GaussianNB()\n",
    "best_model.fit(X_train_scaled, y_train)\n",
    "pred = best_model.predict(X_test_scaled)"
   ]
  },
  {
   "cell_type": "code",
   "execution_count": 38,
   "id": "9f468d16-5363-423d-9449-a32786f5928e",
   "metadata": {},
   "outputs": [
    {
     "name": "stderr",
     "output_type": "stream",
     "text": [
      "C:\\Users\\SAMSUNG\\anaconda3\\Lib\\site-packages\\sklearn\\base.py:439: UserWarning: X does not have valid feature names, but StandardScaler was fitted with feature names\n",
      "  warnings.warn(\n"
     ]
    },
    {
     "data": {
      "text/plain": [
       "0"
      ]
     },
     "execution_count": 38,
     "metadata": {},
     "output_type": "execute_result"
    }
   ],
   "source": [
    "# Testing the input data : \n",
    "input_data = np.array([0,36,33000]).reshape(1,-1)\n",
    "input_data_scaled = scaler.transform(input_data)\n",
    "pred = best_model.predict(input_data_scaled)\n",
    "pred[0]"
   ]
  },
  {
   "cell_type": "code",
   "execution_count": 39,
   "id": "2fc8ed08-83e1-44e4-9684-f28af6acc680",
   "metadata": {},
   "outputs": [
    {
     "name": "stdout",
     "output_type": "stream",
     "text": [
      "The person will not buy SUV \n"
     ]
    }
   ],
   "source": [
    "if pred == 0:\n",
    "    print(\"The person will not buy SUV \")\n",
    "else:\n",
    "    print(\"the person will buy SUV \")"
   ]
  },
  {
   "cell_type": "code",
   "execution_count": 40,
   "id": "89f50a9a-1378-429f-a2c2-c102ec0938cb",
   "metadata": {},
   "outputs": [],
   "source": [
    "# saving our model.\n",
    "import pickle \n",
    "with open('scaler.pkl', 'wb') as scaler_file: \n",
    "    pickle.dump(scaler, scaler_file)\n",
    "\n",
    "with open('best_model.pkl', 'wb') as model_file: \n",
    "    pickle.dump(best_model, model_file)"
   ]
  },
  {
   "cell_type": "code",
   "execution_count": 41,
   "id": "c1ee8cfb-3037-4cce-b0ae-1610446298f5",
   "metadata": {},
   "outputs": [],
   "source": [
    "# Using the saved model \n",
    "with open('scaler.pkl', 'rb') as scaler_file:\n",
    "    loaded_scaler = pickle.load(scaler_file)\n",
    "with open('best_model.pkl', 'rb') as model_file: \n",
    "    loaded_model = pickle.load(model_file)"
   ]
  },
  {
   "cell_type": "code",
   "execution_count": 42,
   "id": "31df86dc-46bb-42ab-b7a0-216a024aff49",
   "metadata": {
    "scrolled": true
   },
   "outputs": [
    {
     "name": "stderr",
     "output_type": "stream",
     "text": [
      "C:\\Users\\SAMSUNG\\anaconda3\\Lib\\site-packages\\sklearn\\base.py:439: UserWarning: X does not have valid feature names, but StandardScaler was fitted with feature names\n",
      "  warnings.warn(\n"
     ]
    },
    {
     "data": {
      "text/plain": [
       "0"
      ]
     },
     "execution_count": 42,
     "metadata": {},
     "output_type": "execute_result"
    }
   ],
   "source": [
    "# testing saved model \n",
    "input_data = np.array([0,36,33000]).reshape(1,-1)\n",
    "input_scaled = loaded_scaler.transform(input_data)\n",
    "model_prediction = loaded_model.predict(input_scaled)\n",
    "model_prediction[0]"
   ]
  },
  {
   "cell_type": "markdown",
   "id": "b1b63861-3702-4c6b-92af-17fafd683df0",
   "metadata": {},
   "source": [
    "### Modelling After Feature Selection "
   ]
  },
  {
   "cell_type": "code",
   "execution_count": 43,
   "id": "738b3dfd-48b1-46dd-82c5-2b7e414abf1a",
   "metadata": {},
   "outputs": [],
   "source": [
    "X = df.drop(columns=['Purchased', 'Gender'], axis=1)\n",
    "y = df['Purchased']"
   ]
  },
  {
   "cell_type": "code",
   "execution_count": 44,
   "id": "b0390b20-9809-4508-9c6b-3bdb56e5b634",
   "metadata": {},
   "outputs": [
    {
     "name": "stdout",
     "output_type": "stream",
     "text": [
      "Accuracy score = 0.9210526315789473\n"
     ]
    },
    {
     "name": "stderr",
     "output_type": "stream",
     "text": [
      "C:\\Users\\SAMSUNG\\anaconda3\\Lib\\site-packages\\sklearn\\base.py:439: UserWarning: X does not have valid feature names, but StandardScaler was fitted with feature names\n",
      "  warnings.warn(\n"
     ]
    },
    {
     "data": {
      "text/plain": [
       "0"
      ]
     },
     "execution_count": 44,
     "metadata": {},
     "output_type": "execute_result"
    }
   ],
   "source": [
    "# train test split \n",
    "from sklearn.model_selection import train_test_split\n",
    "from sklearn.preprocessing import StandardScaler\n",
    "from sklearn.naive_bayes import  GaussianNB \n",
    "\n",
    "X_train, X_test, y_train, y_test = train_test_split(X,y,test_size=0.2,random_state=42)\n",
    "# Feature scaling \n",
    "\n",
    "scaler = StandardScaler()\n",
    "X_train_scaled = scaler.fit_transform(X_train)\n",
    "X_test_scaled = scaler.transform(X_test)\n",
    "\n",
    "# best model using : \n",
    "best_model = GaussianNB()\n",
    "best_model.fit(X_train_scaled, y_train)\n",
    "pred = best_model.predict(X_test_scaled)\n",
    "print(f\"Accuracy score = {accuracy_score(y_test, pred)}\")\n",
    "\n",
    "# Testing the input data : \n",
    "input_data = np.array([36,33000]).reshape(1,-1)\n",
    "input_data_scaled = scaler.transform(input_data)\n",
    "pred = best_model.predict(input_data_scaled)\n",
    "pred[0]"
   ]
  },
  {
   "cell_type": "markdown",
   "id": "012fc00e-45c6-4317-a930-955abd9459a2",
   "metadata": {},
   "source": [
    "# I did feature scaling and dropped gender column, and got the same accuracy with the three features combination. \n",
    "# I am not using this 2 feature model because i have already implemented the model with 3 features."
   ]
  },
  {
   "cell_type": "code",
   "execution_count": null,
   "id": "5dc36504-b48c-4bde-ad7a-9ddf5857b7dc",
   "metadata": {},
   "outputs": [],
   "source": []
  }
 ],
 "metadata": {
  "kernelspec": {
   "display_name": "Python 3 (ipykernel)",
   "language": "python",
   "name": "python3"
  },
  "language_info": {
   "codemirror_mode": {
    "name": "ipython",
    "version": 3
   },
   "file_extension": ".py",
   "mimetype": "text/x-python",
   "name": "python",
   "nbconvert_exporter": "python",
   "pygments_lexer": "ipython3",
   "version": "3.11.7"
  }
 },
 "nbformat": 4,
 "nbformat_minor": 5
}
